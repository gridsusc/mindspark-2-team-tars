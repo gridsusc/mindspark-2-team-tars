{
  "nbformat": 4,
  "nbformat_minor": 0,
  "metadata": {
    "colab": {
      "name": "disease_food_recommendation.ipynb",
      "provenance": []
    },
    "kernelspec": {
      "name": "python3",
      "display_name": "Python 3"
    },
    "language_info": {
      "name": "python"
    }
  },
  "cells": [
    {
      "cell_type": "markdown",
      "source": [
        "## Loading Libraries"
      ],
      "metadata": {
        "id": "SHNh3ZpEisRw"
      }
    },
    {
      "cell_type": "code",
      "source": [
        "!pip install sklearn"
      ],
      "metadata": {
        "colab": {
          "base_uri": "https://localhost:8080/"
        },
        "id": "umiAih7HIYFJ",
        "outputId": "e4293b95-48cc-4031-ca09-edc00d1001ac"
      },
      "execution_count": 1,
      "outputs": [
        {
          "output_type": "stream",
          "name": "stdout",
          "text": [
            "Requirement already satisfied: sklearn in /usr/local/lib/python3.7/dist-packages (0.0)\n",
            "Requirement already satisfied: scikit-learn in /usr/local/lib/python3.7/dist-packages (from sklearn) (1.0.2)\n",
            "Requirement already satisfied: numpy>=1.14.6 in /usr/local/lib/python3.7/dist-packages (from scikit-learn->sklearn) (1.21.5)\n",
            "Requirement already satisfied: scipy>=1.1.0 in /usr/local/lib/python3.7/dist-packages (from scikit-learn->sklearn) (1.4.1)\n",
            "Requirement already satisfied: threadpoolctl>=2.0.0 in /usr/local/lib/python3.7/dist-packages (from scikit-learn->sklearn) (3.1.0)\n",
            "Requirement already satisfied: joblib>=0.11 in /usr/local/lib/python3.7/dist-packages (from scikit-learn->sklearn) (1.1.0)\n"
          ]
        }
      ]
    },
    {
      "cell_type": "code",
      "source": [
        "import pandas as pd\n",
        "import statistics\n",
        "from sklearn.neighbors import NearestCentroid, NearestNeighbors, KNeighborsClassifier\n",
        "import numpy as np\n",
        "import math"
      ],
      "metadata": {
        "id": "6DpTbUGTZaCw"
      },
      "execution_count": 43,
      "outputs": []
    },
    {
      "cell_type": "markdown",
      "source": [
        "## Loading Data"
      ],
      "metadata": {
        "id": "LiNtGyC2iwJU"
      }
    },
    {
      "cell_type": "code",
      "source": [
        "df = pd.read_csv('/content/drive/MyDrive/gridshack22/clustered_data.csv')"
      ],
      "metadata": {
        "id": "gS1Ms7bniqeJ"
      },
      "execution_count": 3,
      "outputs": []
    },
    {
      "cell_type": "code",
      "source": [
        "df.head()"
      ],
      "metadata": {
        "colab": {
          "base_uri": "https://localhost:8080/",
          "height": 357
        },
        "id": "uTi5eHLBi1Tf",
        "outputId": "2f6ea069-6992-4f76-b84b-6d77135efc2d"
      },
      "execution_count": 4,
      "outputs": [
        {
          "output_type": "execute_result",
          "data": {
            "text/plain": [
              "   nutrient_total_fat  nutrient_total_carb  nutrient_protein  \\\n",
              "0           19.330000            70.970000          2.500000   \n",
              "1           12.750000            77.770000          2.600000   \n",
              "2           28.850000            63.150000          6.410000   \n",
              "3            5.826667            11.586667         24.223333   \n",
              "4            7.800000             8.520000         17.285000   \n",
              "\n",
              "   nutrient_sat_fat  nutrient_cholesterol  nutrient_sodium  nutrient_fiber  \\\n",
              "0           11.9000                  12.0       203.000000             1.0   \n",
              "1            8.6460                   5.0       194.000000             1.5   \n",
              "2           19.2300                  18.0        63.000000             0.0   \n",
              "3            0.9400                 127.0       737.666667             0.2   \n",
              "4            2.5295                  73.5       516.000000             0.3   \n",
              "\n",
              "   nutrient_calcium  Calories  Score  nutrient_vitamin_a  \\\n",
              "0         76.000000    458.23  6.627           38.000000   \n",
              "1         54.000000    427.10  6.517           20.000000   \n",
              "2        150.000000    457.10  6.752           46.000000   \n",
              "3         52.666667    160.97  4.787            7.666667   \n",
              "4         16.500000    160.21  5.227            4.000000   \n",
              "\n",
              "                         Category  cluster  \n",
              "0                   100 GRAND Bar        7  \n",
              "1                3 MUSKETEERS Bar        7  \n",
              "2  3 Musketeers Truffle Crisp Bar        2  \n",
              "3                         Abalone        1  \n",
              "4                           Adobo        6  "
            ],
            "text/html": [
              "\n",
              "  <div id=\"df-ec53c608-339c-40b6-b8d8-5924462e0ce5\">\n",
              "    <div class=\"colab-df-container\">\n",
              "      <div>\n",
              "<style scoped>\n",
              "    .dataframe tbody tr th:only-of-type {\n",
              "        vertical-align: middle;\n",
              "    }\n",
              "\n",
              "    .dataframe tbody tr th {\n",
              "        vertical-align: top;\n",
              "    }\n",
              "\n",
              "    .dataframe thead th {\n",
              "        text-align: right;\n",
              "    }\n",
              "</style>\n",
              "<table border=\"1\" class=\"dataframe\">\n",
              "  <thead>\n",
              "    <tr style=\"text-align: right;\">\n",
              "      <th></th>\n",
              "      <th>nutrient_total_fat</th>\n",
              "      <th>nutrient_total_carb</th>\n",
              "      <th>nutrient_protein</th>\n",
              "      <th>nutrient_sat_fat</th>\n",
              "      <th>nutrient_cholesterol</th>\n",
              "      <th>nutrient_sodium</th>\n",
              "      <th>nutrient_fiber</th>\n",
              "      <th>nutrient_calcium</th>\n",
              "      <th>Calories</th>\n",
              "      <th>Score</th>\n",
              "      <th>nutrient_vitamin_a</th>\n",
              "      <th>Category</th>\n",
              "      <th>cluster</th>\n",
              "    </tr>\n",
              "  </thead>\n",
              "  <tbody>\n",
              "    <tr>\n",
              "      <th>0</th>\n",
              "      <td>19.330000</td>\n",
              "      <td>70.970000</td>\n",
              "      <td>2.500000</td>\n",
              "      <td>11.9000</td>\n",
              "      <td>12.0</td>\n",
              "      <td>203.000000</td>\n",
              "      <td>1.0</td>\n",
              "      <td>76.000000</td>\n",
              "      <td>458.23</td>\n",
              "      <td>6.627</td>\n",
              "      <td>38.000000</td>\n",
              "      <td>100 GRAND Bar</td>\n",
              "      <td>7</td>\n",
              "    </tr>\n",
              "    <tr>\n",
              "      <th>1</th>\n",
              "      <td>12.750000</td>\n",
              "      <td>77.770000</td>\n",
              "      <td>2.600000</td>\n",
              "      <td>8.6460</td>\n",
              "      <td>5.0</td>\n",
              "      <td>194.000000</td>\n",
              "      <td>1.5</td>\n",
              "      <td>54.000000</td>\n",
              "      <td>427.10</td>\n",
              "      <td>6.517</td>\n",
              "      <td>20.000000</td>\n",
              "      <td>3 MUSKETEERS Bar</td>\n",
              "      <td>7</td>\n",
              "    </tr>\n",
              "    <tr>\n",
              "      <th>2</th>\n",
              "      <td>28.850000</td>\n",
              "      <td>63.150000</td>\n",
              "      <td>6.410000</td>\n",
              "      <td>19.2300</td>\n",
              "      <td>18.0</td>\n",
              "      <td>63.000000</td>\n",
              "      <td>0.0</td>\n",
              "      <td>150.000000</td>\n",
              "      <td>457.10</td>\n",
              "      <td>6.752</td>\n",
              "      <td>46.000000</td>\n",
              "      <td>3 Musketeers Truffle Crisp Bar</td>\n",
              "      <td>2</td>\n",
              "    </tr>\n",
              "    <tr>\n",
              "      <th>3</th>\n",
              "      <td>5.826667</td>\n",
              "      <td>11.586667</td>\n",
              "      <td>24.223333</td>\n",
              "      <td>0.9400</td>\n",
              "      <td>127.0</td>\n",
              "      <td>737.666667</td>\n",
              "      <td>0.2</td>\n",
              "      <td>52.666667</td>\n",
              "      <td>160.97</td>\n",
              "      <td>4.787</td>\n",
              "      <td>7.666667</td>\n",
              "      <td>Abalone</td>\n",
              "      <td>1</td>\n",
              "    </tr>\n",
              "    <tr>\n",
              "      <th>4</th>\n",
              "      <td>7.800000</td>\n",
              "      <td>8.520000</td>\n",
              "      <td>17.285000</td>\n",
              "      <td>2.5295</td>\n",
              "      <td>73.5</td>\n",
              "      <td>516.000000</td>\n",
              "      <td>0.3</td>\n",
              "      <td>16.500000</td>\n",
              "      <td>160.21</td>\n",
              "      <td>5.227</td>\n",
              "      <td>4.000000</td>\n",
              "      <td>Adobo</td>\n",
              "      <td>6</td>\n",
              "    </tr>\n",
              "  </tbody>\n",
              "</table>\n",
              "</div>\n",
              "      <button class=\"colab-df-convert\" onclick=\"convertToInteractive('df-ec53c608-339c-40b6-b8d8-5924462e0ce5')\"\n",
              "              title=\"Convert this dataframe to an interactive table.\"\n",
              "              style=\"display:none;\">\n",
              "        \n",
              "  <svg xmlns=\"http://www.w3.org/2000/svg\" height=\"24px\"viewBox=\"0 0 24 24\"\n",
              "       width=\"24px\">\n",
              "    <path d=\"M0 0h24v24H0V0z\" fill=\"none\"/>\n",
              "    <path d=\"M18.56 5.44l.94 2.06.94-2.06 2.06-.94-2.06-.94-.94-2.06-.94 2.06-2.06.94zm-11 1L8.5 8.5l.94-2.06 2.06-.94-2.06-.94L8.5 2.5l-.94 2.06-2.06.94zm10 10l.94 2.06.94-2.06 2.06-.94-2.06-.94-.94-2.06-.94 2.06-2.06.94z\"/><path d=\"M17.41 7.96l-1.37-1.37c-.4-.4-.92-.59-1.43-.59-.52 0-1.04.2-1.43.59L10.3 9.45l-7.72 7.72c-.78.78-.78 2.05 0 2.83L4 21.41c.39.39.9.59 1.41.59.51 0 1.02-.2 1.41-.59l7.78-7.78 2.81-2.81c.8-.78.8-2.07 0-2.86zM5.41 20L4 18.59l7.72-7.72 1.47 1.35L5.41 20z\"/>\n",
              "  </svg>\n",
              "      </button>\n",
              "      \n",
              "  <style>\n",
              "    .colab-df-container {\n",
              "      display:flex;\n",
              "      flex-wrap:wrap;\n",
              "      gap: 12px;\n",
              "    }\n",
              "\n",
              "    .colab-df-convert {\n",
              "      background-color: #E8F0FE;\n",
              "      border: none;\n",
              "      border-radius: 50%;\n",
              "      cursor: pointer;\n",
              "      display: none;\n",
              "      fill: #1967D2;\n",
              "      height: 32px;\n",
              "      padding: 0 0 0 0;\n",
              "      width: 32px;\n",
              "    }\n",
              "\n",
              "    .colab-df-convert:hover {\n",
              "      background-color: #E2EBFA;\n",
              "      box-shadow: 0px 1px 2px rgba(60, 64, 67, 0.3), 0px 1px 3px 1px rgba(60, 64, 67, 0.15);\n",
              "      fill: #174EA6;\n",
              "    }\n",
              "\n",
              "    [theme=dark] .colab-df-convert {\n",
              "      background-color: #3B4455;\n",
              "      fill: #D2E3FC;\n",
              "    }\n",
              "\n",
              "    [theme=dark] .colab-df-convert:hover {\n",
              "      background-color: #434B5C;\n",
              "      box-shadow: 0px 1px 3px 1px rgba(0, 0, 0, 0.15);\n",
              "      filter: drop-shadow(0px 1px 2px rgba(0, 0, 0, 0.3));\n",
              "      fill: #FFFFFF;\n",
              "    }\n",
              "  </style>\n",
              "\n",
              "      <script>\n",
              "        const buttonEl =\n",
              "          document.querySelector('#df-ec53c608-339c-40b6-b8d8-5924462e0ce5 button.colab-df-convert');\n",
              "        buttonEl.style.display =\n",
              "          google.colab.kernel.accessAllowed ? 'block' : 'none';\n",
              "\n",
              "        async function convertToInteractive(key) {\n",
              "          const element = document.querySelector('#df-ec53c608-339c-40b6-b8d8-5924462e0ce5');\n",
              "          const dataTable =\n",
              "            await google.colab.kernel.invokeFunction('convertToInteractive',\n",
              "                                                     [key], {});\n",
              "          if (!dataTable) return;\n",
              "\n",
              "          const docLinkHtml = 'Like what you see? Visit the ' +\n",
              "            '<a target=\"_blank\" href=https://colab.research.google.com/notebooks/data_table.ipynb>data table notebook</a>'\n",
              "            + ' to learn more about interactive tables.';\n",
              "          element.innerHTML = '';\n",
              "          dataTable['output_type'] = 'display_data';\n",
              "          await google.colab.output.renderOutput(dataTable, element);\n",
              "          const docLink = document.createElement('div');\n",
              "          docLink.innerHTML = docLinkHtml;\n",
              "          element.appendChild(docLink);\n",
              "        }\n",
              "      </script>\n",
              "    </div>\n",
              "  </div>\n",
              "  "
            ]
          },
          "metadata": {},
          "execution_count": 4
        }
      ]
    },
    {
      "cell_type": "markdown",
      "source": [
        "## Data Dictionaries"
      ],
      "metadata": {
        "id": "i8bkDfXxkrtk"
      }
    },
    {
      "cell_type": "code",
      "source": [
        "dct = {}\n",
        "dct['diabetes_good'] = ['brown rice','oatmeal','quinoa','millet','sweet potato','vegetables','kale','spinach','arugula','fruits','beans','nuts','seeds','tofu','fish','seafood','chicken','eggs','low-fat dairy','1% milk','skim milk','low-fat yogurt','low-fat cottage cheese','low-fat sour cream','coffee']\n",
        "dct['diabetes_bad'] = ['processed grains','white rice','white flour','cereals','white bread','french fries','fried food','canned food','pickles','jam','jelly','fruit punch','fruit drinks','fried meat','pork bacon','cheese','lard','deep fried','whole milk','yogurt','cottage cheese','ice cream','soda','chocolate','energy drinks']\n",
        "dct['heart_good'] = ['nuts','beans','oats','fish','green vegetables','whole wheat','brown rice','rye','barley','buckwheat','quinoa','berries','avacados','walnuts','beans','dark chocolate','tomatoes','almonds','seeds','garlic','olive oil','edamame','green tea']\n",
        "dct['heart_bad'] = ['sugar','salt','fat','bacon','red meat','soda','baked goods','processed meat','white rice','bread','pasta','pizza','alcohol','butter','yogurt','french fries','fried chicken','canned','ranch','ice cream','potato','chips']\n",
        "dct['obesity_good'] = ['whole wheat','oats','brown rice','quinoa','vegetables','fruits','nuts','seeds','fish','olive oil','vegetable oil']\n",
        "dct['obesity_bad'] = ['soda','fruit drinks','sport drinks','fruit juice','white bread','white rice','white pasta','sweets','potato','beef','pork','lamb','salami','ham','bacon','sausage','pizza','burger','french fries','pasta']\n",
        "dct['skin_good'] = ['fish','avacados','walnuts','sunflower seeds','sweet potato','bell pepper','brocolli','tomato','soy','dark chocolate','green tea','grapes']\n",
        "dct['skin_bad'] = ['doughnuts','soda','fried','alcohol','white rice','candy','chips','coffee','popcorn','processed meat','white bread','sauce','sweet','mayonnaise','enery drink']\n",
        "dct['liver_good'] = ['coffee','tea','grapefruit','blueberries','cranberries','grapes','pear','beetroot','vegetable','nuts','fish','olive oil']\n",
        "dct['liver_bad'] = ['sugar','soft drinks','baked','fizzy','soda','cola','aerated','alcohol','bread','pizza','burger','french fries','pasta','salt','pork','beef','bacon','ham']\n",
        "dct['bp_good'] = ['fruits','salmon','fish','chard','pumpkin seed','beans','lentils','berries','amaranth','pistachios','carrot','celery','tomato','brocoli','yogurt','herbs','spices','chia seeds','flax seeds','beetroot','beet','spinach']\n",
        "dct['bp_bad'] = ['salt','bread','pizza','sandwich','colt cut','cured meat','soup','burritos','tacos','deli meat','frozen','pickles','canned','sugar','processed','milk','cream','butter','pork','beef','bacon','skin','alcohol']"
      ],
      "metadata": {
        "id": "Eyp-yNYgi2pe"
      },
      "execution_count": 5,
      "outputs": []
    },
    {
      "cell_type": "markdown",
      "source": [
        "#3 Map data dictionaries to dataset"
      ],
      "metadata": {
        "id": "FJoCMF-r2grQ"
      }
    },
    {
      "cell_type": "code",
      "source": [
        "df['Category'] = df['Category'].str.lower()"
      ],
      "metadata": {
        "id": "EQ0YJb4Awuhf"
      },
      "execution_count": 6,
      "outputs": []
    },
    {
      "cell_type": "code",
      "source": [
        "df.head()"
      ],
      "metadata": {
        "colab": {
          "base_uri": "https://localhost:8080/",
          "height": 374
        },
        "id": "O6LqNp6g2ojm",
        "outputId": "26d8a357-42c3-4146-acf4-1e1d475002e4"
      },
      "execution_count": 7,
      "outputs": [
        {
          "output_type": "execute_result",
          "data": {
            "text/plain": [
              "   nutrient_total_fat  nutrient_total_carb  nutrient_protein  \\\n",
              "0           19.330000            70.970000          2.500000   \n",
              "1           12.750000            77.770000          2.600000   \n",
              "2           28.850000            63.150000          6.410000   \n",
              "3            5.826667            11.586667         24.223333   \n",
              "4            7.800000             8.520000         17.285000   \n",
              "\n",
              "   nutrient_sat_fat  nutrient_cholesterol  nutrient_sodium  nutrient_fiber  \\\n",
              "0           11.9000                  12.0       203.000000             1.0   \n",
              "1            8.6460                   5.0       194.000000             1.5   \n",
              "2           19.2300                  18.0        63.000000             0.0   \n",
              "3            0.9400                 127.0       737.666667             0.2   \n",
              "4            2.5295                  73.5       516.000000             0.3   \n",
              "\n",
              "   nutrient_calcium  Calories  Score  nutrient_vitamin_a  \\\n",
              "0         76.000000    458.23  6.627           38.000000   \n",
              "1         54.000000    427.10  6.517           20.000000   \n",
              "2        150.000000    457.10  6.752           46.000000   \n",
              "3         52.666667    160.97  4.787            7.666667   \n",
              "4         16.500000    160.21  5.227            4.000000   \n",
              "\n",
              "                         Category  cluster  \n",
              "0                   100 grand bar        7  \n",
              "1                3 musketeers bar        7  \n",
              "2  3 musketeers truffle crisp bar        2  \n",
              "3                         abalone        1  \n",
              "4                           adobo        6  "
            ],
            "text/html": [
              "\n",
              "  <div id=\"df-96d6f96c-12d9-4924-a26e-a9cbe8978c07\">\n",
              "    <div class=\"colab-df-container\">\n",
              "      <div>\n",
              "<style scoped>\n",
              "    .dataframe tbody tr th:only-of-type {\n",
              "        vertical-align: middle;\n",
              "    }\n",
              "\n",
              "    .dataframe tbody tr th {\n",
              "        vertical-align: top;\n",
              "    }\n",
              "\n",
              "    .dataframe thead th {\n",
              "        text-align: right;\n",
              "    }\n",
              "</style>\n",
              "<table border=\"1\" class=\"dataframe\">\n",
              "  <thead>\n",
              "    <tr style=\"text-align: right;\">\n",
              "      <th></th>\n",
              "      <th>nutrient_total_fat</th>\n",
              "      <th>nutrient_total_carb</th>\n",
              "      <th>nutrient_protein</th>\n",
              "      <th>nutrient_sat_fat</th>\n",
              "      <th>nutrient_cholesterol</th>\n",
              "      <th>nutrient_sodium</th>\n",
              "      <th>nutrient_fiber</th>\n",
              "      <th>nutrient_calcium</th>\n",
              "      <th>Calories</th>\n",
              "      <th>Score</th>\n",
              "      <th>nutrient_vitamin_a</th>\n",
              "      <th>Category</th>\n",
              "      <th>cluster</th>\n",
              "    </tr>\n",
              "  </thead>\n",
              "  <tbody>\n",
              "    <tr>\n",
              "      <th>0</th>\n",
              "      <td>19.330000</td>\n",
              "      <td>70.970000</td>\n",
              "      <td>2.500000</td>\n",
              "      <td>11.9000</td>\n",
              "      <td>12.0</td>\n",
              "      <td>203.000000</td>\n",
              "      <td>1.0</td>\n",
              "      <td>76.000000</td>\n",
              "      <td>458.23</td>\n",
              "      <td>6.627</td>\n",
              "      <td>38.000000</td>\n",
              "      <td>100 grand bar</td>\n",
              "      <td>7</td>\n",
              "    </tr>\n",
              "    <tr>\n",
              "      <th>1</th>\n",
              "      <td>12.750000</td>\n",
              "      <td>77.770000</td>\n",
              "      <td>2.600000</td>\n",
              "      <td>8.6460</td>\n",
              "      <td>5.0</td>\n",
              "      <td>194.000000</td>\n",
              "      <td>1.5</td>\n",
              "      <td>54.000000</td>\n",
              "      <td>427.10</td>\n",
              "      <td>6.517</td>\n",
              "      <td>20.000000</td>\n",
              "      <td>3 musketeers bar</td>\n",
              "      <td>7</td>\n",
              "    </tr>\n",
              "    <tr>\n",
              "      <th>2</th>\n",
              "      <td>28.850000</td>\n",
              "      <td>63.150000</td>\n",
              "      <td>6.410000</td>\n",
              "      <td>19.2300</td>\n",
              "      <td>18.0</td>\n",
              "      <td>63.000000</td>\n",
              "      <td>0.0</td>\n",
              "      <td>150.000000</td>\n",
              "      <td>457.10</td>\n",
              "      <td>6.752</td>\n",
              "      <td>46.000000</td>\n",
              "      <td>3 musketeers truffle crisp bar</td>\n",
              "      <td>2</td>\n",
              "    </tr>\n",
              "    <tr>\n",
              "      <th>3</th>\n",
              "      <td>5.826667</td>\n",
              "      <td>11.586667</td>\n",
              "      <td>24.223333</td>\n",
              "      <td>0.9400</td>\n",
              "      <td>127.0</td>\n",
              "      <td>737.666667</td>\n",
              "      <td>0.2</td>\n",
              "      <td>52.666667</td>\n",
              "      <td>160.97</td>\n",
              "      <td>4.787</td>\n",
              "      <td>7.666667</td>\n",
              "      <td>abalone</td>\n",
              "      <td>1</td>\n",
              "    </tr>\n",
              "    <tr>\n",
              "      <th>4</th>\n",
              "      <td>7.800000</td>\n",
              "      <td>8.520000</td>\n",
              "      <td>17.285000</td>\n",
              "      <td>2.5295</td>\n",
              "      <td>73.5</td>\n",
              "      <td>516.000000</td>\n",
              "      <td>0.3</td>\n",
              "      <td>16.500000</td>\n",
              "      <td>160.21</td>\n",
              "      <td>5.227</td>\n",
              "      <td>4.000000</td>\n",
              "      <td>adobo</td>\n",
              "      <td>6</td>\n",
              "    </tr>\n",
              "  </tbody>\n",
              "</table>\n",
              "</div>\n",
              "      <button class=\"colab-df-convert\" onclick=\"convertToInteractive('df-96d6f96c-12d9-4924-a26e-a9cbe8978c07')\"\n",
              "              title=\"Convert this dataframe to an interactive table.\"\n",
              "              style=\"display:none;\">\n",
              "        \n",
              "  <svg xmlns=\"http://www.w3.org/2000/svg\" height=\"24px\"viewBox=\"0 0 24 24\"\n",
              "       width=\"24px\">\n",
              "    <path d=\"M0 0h24v24H0V0z\" fill=\"none\"/>\n",
              "    <path d=\"M18.56 5.44l.94 2.06.94-2.06 2.06-.94-2.06-.94-.94-2.06-.94 2.06-2.06.94zm-11 1L8.5 8.5l.94-2.06 2.06-.94-2.06-.94L8.5 2.5l-.94 2.06-2.06.94zm10 10l.94 2.06.94-2.06 2.06-.94-2.06-.94-.94-2.06-.94 2.06-2.06.94z\"/><path d=\"M17.41 7.96l-1.37-1.37c-.4-.4-.92-.59-1.43-.59-.52 0-1.04.2-1.43.59L10.3 9.45l-7.72 7.72c-.78.78-.78 2.05 0 2.83L4 21.41c.39.39.9.59 1.41.59.51 0 1.02-.2 1.41-.59l7.78-7.78 2.81-2.81c.8-.78.8-2.07 0-2.86zM5.41 20L4 18.59l7.72-7.72 1.47 1.35L5.41 20z\"/>\n",
              "  </svg>\n",
              "      </button>\n",
              "      \n",
              "  <style>\n",
              "    .colab-df-container {\n",
              "      display:flex;\n",
              "      flex-wrap:wrap;\n",
              "      gap: 12px;\n",
              "    }\n",
              "\n",
              "    .colab-df-convert {\n",
              "      background-color: #E8F0FE;\n",
              "      border: none;\n",
              "      border-radius: 50%;\n",
              "      cursor: pointer;\n",
              "      display: none;\n",
              "      fill: #1967D2;\n",
              "      height: 32px;\n",
              "      padding: 0 0 0 0;\n",
              "      width: 32px;\n",
              "    }\n",
              "\n",
              "    .colab-df-convert:hover {\n",
              "      background-color: #E2EBFA;\n",
              "      box-shadow: 0px 1px 2px rgba(60, 64, 67, 0.3), 0px 1px 3px 1px rgba(60, 64, 67, 0.15);\n",
              "      fill: #174EA6;\n",
              "    }\n",
              "\n",
              "    [theme=dark] .colab-df-convert {\n",
              "      background-color: #3B4455;\n",
              "      fill: #D2E3FC;\n",
              "    }\n",
              "\n",
              "    [theme=dark] .colab-df-convert:hover {\n",
              "      background-color: #434B5C;\n",
              "      box-shadow: 0px 1px 3px 1px rgba(0, 0, 0, 0.15);\n",
              "      filter: drop-shadow(0px 1px 2px rgba(0, 0, 0, 0.3));\n",
              "      fill: #FFFFFF;\n",
              "    }\n",
              "  </style>\n",
              "\n",
              "      <script>\n",
              "        const buttonEl =\n",
              "          document.querySelector('#df-96d6f96c-12d9-4924-a26e-a9cbe8978c07 button.colab-df-convert');\n",
              "        buttonEl.style.display =\n",
              "          google.colab.kernel.accessAllowed ? 'block' : 'none';\n",
              "\n",
              "        async function convertToInteractive(key) {\n",
              "          const element = document.querySelector('#df-96d6f96c-12d9-4924-a26e-a9cbe8978c07');\n",
              "          const dataTable =\n",
              "            await google.colab.kernel.invokeFunction('convertToInteractive',\n",
              "                                                     [key], {});\n",
              "          if (!dataTable) return;\n",
              "\n",
              "          const docLinkHtml = 'Like what you see? Visit the ' +\n",
              "            '<a target=\"_blank\" href=https://colab.research.google.com/notebooks/data_table.ipynb>data table notebook</a>'\n",
              "            + ' to learn more about interactive tables.';\n",
              "          element.innerHTML = '';\n",
              "          dataTable['output_type'] = 'display_data';\n",
              "          await google.colab.output.renderOutput(dataTable, element);\n",
              "          const docLink = document.createElement('div');\n",
              "          docLink.innerHTML = docLinkHtml;\n",
              "          element.appendChild(docLink);\n",
              "        }\n",
              "      </script>\n",
              "    </div>\n",
              "  </div>\n",
              "  "
            ]
          },
          "metadata": {},
          "execution_count": 7
        }
      ]
    },
    {
      "cell_type": "code",
      "source": [
        "#food good for diabetes\n",
        "dg = {}\n",
        "for i in dct['diabetes_good']:\n",
        "  for j in range(len(df['Category'].tolist())):\n",
        "    if i in df['Category'][j]:\n",
        "      dg[df['Category'][j]] = df['cluster'][j]"
      ],
      "metadata": {
        "id": "qVcPIG0m2vGd"
      },
      "execution_count": 8,
      "outputs": []
    },
    {
      "cell_type": "code",
      "source": [
        "#food bad for diabetes\n",
        "db = {}\n",
        "for i in dct['diabetes_bad']:\n",
        "  for j in range(len(df['Category'].tolist())):\n",
        "    if i in df['Category'][j]:\n",
        "      db[df['Category'][j]] = df['cluster'][j]"
      ],
      "metadata": {
        "id": "G8GKS_7W3-rJ"
      },
      "execution_count": 9,
      "outputs": []
    },
    {
      "cell_type": "code",
      "source": [
        "#food good for heart\n",
        "hg = {}\n",
        "for i in dct['heart_good']:\n",
        "  for j in range(len(df['Category'].tolist())):\n",
        "    if i in df['Category'][j]:\n",
        "      hg[df['Category'][j]] = df['cluster'][j]"
      ],
      "metadata": {
        "id": "ESccWZj_3_Ql"
      },
      "execution_count": 10,
      "outputs": []
    },
    {
      "cell_type": "code",
      "source": [
        "#food bad for heart\n",
        "hb = {}\n",
        "for i in dct['heart_bad']:\n",
        "  for j in range(len(df['Category'].tolist())):\n",
        "    if i in df['Category'][j]:\n",
        "      hb[df['Category'][j]] = df['cluster'][j]"
      ],
      "metadata": {
        "id": "1SPvA68F4UAu"
      },
      "execution_count": 11,
      "outputs": []
    },
    {
      "cell_type": "code",
      "source": [
        "#food good for obesity\n",
        "og = {}\n",
        "for i in dct['obesity_good']:\n",
        "  for j in range(len(df['Category'].tolist())):\n",
        "    if i in df['Category'][j]:\n",
        "      og[df['Category'][j]] = df['cluster'][j]"
      ],
      "metadata": {
        "id": "C5EIKrY04pwM"
      },
      "execution_count": 12,
      "outputs": []
    },
    {
      "cell_type": "code",
      "source": [
        "#food bad for obesity\n",
        "ob = {}\n",
        "for i in dct['obesity_bad']:\n",
        "  for j in range(len(df['Category'].tolist())):\n",
        "    if i in df['Category'][j]:\n",
        "      ob[df['Category'][j]] = df['cluster'][j]"
      ],
      "metadata": {
        "id": "X-tjaLYZ4xPT"
      },
      "execution_count": 13,
      "outputs": []
    },
    {
      "cell_type": "code",
      "source": [
        "#food good for skin\n",
        "sg = {}\n",
        "for i in dct['skin_good']:\n",
        "  for j in range(len(df['Category'].tolist())):\n",
        "    if i in df['Category'][j]:\n",
        "      sg[df['Category'][j]] = df['cluster'][j]"
      ],
      "metadata": {
        "id": "IUJo1z-R5ADm"
      },
      "execution_count": 14,
      "outputs": []
    },
    {
      "cell_type": "code",
      "source": [
        "#food bad for skin\n",
        "sb = {}\n",
        "for i in dct['skin_bad']:\n",
        "  for j in range(len(df['Category'].tolist())):\n",
        "    if i in df['Category'][j]:\n",
        "      sb[df['Category'][j]] = df['cluster'][j]"
      ],
      "metadata": {
        "id": "WPJ_oSEM5Npc"
      },
      "execution_count": 15,
      "outputs": []
    },
    {
      "cell_type": "code",
      "source": [
        "#food good for liver\n",
        "lg = {}\n",
        "for i in dct['liver_good']:\n",
        "  for j in range(len(df['Category'].tolist())):\n",
        "    if i in df['Category'][j]:\n",
        "      lg[df['Category'][j]] = df['cluster'][j]"
      ],
      "metadata": {
        "id": "crloDTXv5VF4"
      },
      "execution_count": 16,
      "outputs": []
    },
    {
      "cell_type": "code",
      "source": [
        "#food good for liver\n",
        "lb = {}\n",
        "for i in dct['liver_bad']:\n",
        "  for j in range(len(df['Category'].tolist())):\n",
        "    if i in df['Category'][j]:\n",
        "      lb[df['Category'][j]] = df['cluster'][j]"
      ],
      "metadata": {
        "id": "4YCYPMOT5Vu0"
      },
      "execution_count": 17,
      "outputs": []
    },
    {
      "cell_type": "code",
      "source": [
        "#food good for blood pressure\n",
        "bg = {}\n",
        "for i in dct['bp_good']:\n",
        "  for j in range(len(df['Category'].tolist())):\n",
        "    if i in df['Category'][j]:\n",
        "      bg[df['Category'][j]] = df['cluster'][j]"
      ],
      "metadata": {
        "id": "L87fq-0t6A5t"
      },
      "execution_count": 18,
      "outputs": []
    },
    {
      "cell_type": "code",
      "source": [
        "#food good for bad blood pressure\n",
        "bb = {}\n",
        "for i in dct['bp_bad']:\n",
        "  for j in range(len(df['Category'].tolist())):\n",
        "    if i in df['Category'][j]:\n",
        "      bb[df['Category'][j]] = df['cluster'][j]"
      ],
      "metadata": {
        "id": "zCgWtofn6buX"
      },
      "execution_count": 19,
      "outputs": []
    },
    {
      "cell_type": "markdown",
      "source": [
        "## Find clusters"
      ],
      "metadata": {
        "id": "00W7TyYv_qd8"
      }
    },
    {
      "cell_type": "code",
      "source": [
        "def countX(lst, x):\n",
        "    return lst.count(x)"
      ],
      "metadata": {
        "id": "L6YonV-R7GwI"
      },
      "execution_count": 20,
      "outputs": []
    },
    {
      "cell_type": "code",
      "source": [
        "dg_count = {}\n",
        "for ele in list(dg.values()):\n",
        "  dg_count[ele] = countX(list(dg.values()),ele)"
      ],
      "metadata": {
        "id": "7XuMmco7-Mkd"
      },
      "execution_count": 21,
      "outputs": []
    },
    {
      "cell_type": "code",
      "source": [
        "dg_count"
      ],
      "metadata": {
        "colab": {
          "base_uri": "https://localhost:8080/"
        },
        "id": "hVnGJSpjALoN",
        "outputId": "e4e4eb1e-0dd9-4355-fc88-761a354f9bb8"
      },
      "execution_count": 22,
      "outputs": [
        {
          "output_type": "execute_result",
          "data": {
            "text/plain": [
              "{0: 172, 1: 497, 2: 136, 3: 244, 4: 89, 5: 217, 6: 334, 7: 72, 8: 251, 9: 16}"
            ]
          },
          "metadata": {},
          "execution_count": 22
        }
      ]
    },
    {
      "cell_type": "code",
      "source": [
        "db_count = {}\n",
        "for ele in list(db.values()):\n",
        "  db_count[ele] = countX(list(db.values()),ele)"
      ],
      "metadata": {
        "id": "CkMyYgGEAZtM"
      },
      "execution_count": 23,
      "outputs": []
    },
    {
      "cell_type": "code",
      "source": [
        "hg_count = {}\n",
        "for ele in list(hg.values()):\n",
        "  hg_count[ele] = countX(list(hg.values()),ele)"
      ],
      "metadata": {
        "id": "YG6GuwwKApEs"
      },
      "execution_count": 24,
      "outputs": []
    },
    {
      "cell_type": "code",
      "source": [
        "hb_count = {}\n",
        "for ele in list(hb.values()):\n",
        "  hb_count[ele] = countX(list(hb.values()),ele)"
      ],
      "metadata": {
        "id": "dnvXJnnkAzTc"
      },
      "execution_count": 25,
      "outputs": []
    },
    {
      "cell_type": "code",
      "source": [
        "og_count = {}\n",
        "for ele in list(og.values()):\n",
        "  og_count[ele] = countX(list(og.values()),ele)"
      ],
      "metadata": {
        "id": "nOg5k5bRA4Or"
      },
      "execution_count": 26,
      "outputs": []
    },
    {
      "cell_type": "code",
      "source": [
        "ob_count = {}\n",
        "for ele in list(ob.values()):\n",
        "  ob_count[ele] = countX(list(ob.values()),ele)"
      ],
      "metadata": {
        "id": "_kIZdKZCBADZ"
      },
      "execution_count": 27,
      "outputs": []
    },
    {
      "cell_type": "code",
      "source": [
        "sg_count = {}\n",
        "for ele in list(sg.values()):\n",
        "  sg_count[ele] = countX(list(sg.values()),ele)"
      ],
      "metadata": {
        "id": "3ICwW0bwBE7V"
      },
      "execution_count": 28,
      "outputs": []
    },
    {
      "cell_type": "code",
      "source": [
        "sb_count = {}\n",
        "for ele in list(sb.values()):\n",
        "  sb_count[ele] = countX(list(sb.values()),ele)"
      ],
      "metadata": {
        "id": "9Vli1Wc9BPEF"
      },
      "execution_count": 29,
      "outputs": []
    },
    {
      "cell_type": "code",
      "source": [
        "lg_count = {}\n",
        "for ele in list(lg.values()):\n",
        "  lg_count[ele] = countX(list(lg.values()),ele)"
      ],
      "metadata": {
        "id": "wphZzx0VENSv"
      },
      "execution_count": 30,
      "outputs": []
    },
    {
      "cell_type": "code",
      "source": [
        "lb_count = {}\n",
        "for ele in list(lb.values()):\n",
        "  lb_count[ele] = countX(list(lb.values()),ele)"
      ],
      "metadata": {
        "id": "zGqy-DVtEW-6"
      },
      "execution_count": 31,
      "outputs": []
    },
    {
      "cell_type": "code",
      "source": [
        "bg_count = {}\n",
        "for ele in list(bg.values()):\n",
        "  bg_count[ele] = countX(list(bg.values()),ele)"
      ],
      "metadata": {
        "id": "uhNtje3mEacU"
      },
      "execution_count": 32,
      "outputs": []
    },
    {
      "cell_type": "code",
      "source": [
        "bb_count = {}\n",
        "for ele in list(bb.values()):\n",
        "  bb_count[ele] = countX(list(bb.values()),ele)"
      ],
      "metadata": {
        "id": "rfthzRq4Eer8"
      },
      "execution_count": 33,
      "outputs": []
    },
    {
      "cell_type": "markdown",
      "source": [
        "## Recommendation"
      ],
      "metadata": {
        "id": "-m_5TcN6Evmf"
      }
    },
    {
      "cell_type": "code",
      "source": [
        "#inputs\n",
        "\n",
        "desired_food = \"pizza\"\n",
        "health_condition = \"diabetes\"\n",
        "good_food = dg_count\n",
        "bad_food = db_count"
      ],
      "metadata": {
        "id": "rgcdQQkIt3bs"
      },
      "execution_count": 35,
      "outputs": []
    },
    {
      "cell_type": "code",
      "source": [
        "def get_key(dct, val):\n",
        "    for key, value in dct.items():\n",
        "         if val == value:\n",
        "             return key"
      ],
      "metadata": {
        "id": "fVyE-e6VXQMG"
      },
      "execution_count": 34,
      "outputs": []
    },
    {
      "cell_type": "code",
      "source": [
        "target_cluster = int(df[df['Category']==desired_food]['cluster'])"
      ],
      "metadata": {
        "id": "v0uGYxg6uNFt"
      },
      "execution_count": 36,
      "outputs": []
    },
    {
      "cell_type": "code",
      "source": [
        "test_point = df[df['Category']==desired_food].drop(columns=['Category','cluster'])"
      ],
      "metadata": {
        "id": "2UKAtpFn09Sm"
      },
      "execution_count": 53,
      "outputs": []
    },
    {
      "cell_type": "code",
      "source": [
        "good_cluster = get_key(good_food,max(list(good_food.values())))"
      ],
      "metadata": {
        "id": "BkAUAfJPuWWH"
      },
      "execution_count": 37,
      "outputs": []
    },
    {
      "cell_type": "code",
      "source": [
        "bad_cluster = get_key(bad_food,max(list(bad_food.values())))"
      ],
      "metadata": {
        "id": "opwwlWw-vSjo"
      },
      "execution_count": 38,
      "outputs": []
    },
    {
      "cell_type": "code",
      "source": [
        "target_data = df[df['cluster']==target_cluster]\n",
        "good_data = df[df['cluster']==good_cluster]\n",
        "bad_data = df[df['cluster']==bad_cluster]"
      ],
      "metadata": {
        "id": "vQLmERT3vezk"
      },
      "execution_count": 39,
      "outputs": []
    },
    {
      "cell_type": "code",
      "source": [
        "target_centroid = target_data.drop(columns=['Category', 'cluster']).mean(axis=0).to_numpy()\n",
        "good_centroid = good_data.drop(columns=['Category', 'cluster']).mean(axis=0).to_numpy()\n",
        "bad_centroid = bad_data.drop(columns=['Category', 'cluster']).mean(axis=0).to_numpy()"
      ],
      "metadata": {
        "id": "4czeqLjLv7GX"
      },
      "execution_count": 40,
      "outputs": []
    },
    {
      "cell_type": "code",
      "source": [
        "distance_from_good = np.linalg.norm(good_centroid - target_centroid)\n",
        "distance_from_bad = np.linalg.norm(bad_centroid - target_centroid)"
      ],
      "metadata": {
        "id": "p5prCJnJw0gt"
      },
      "execution_count": 48,
      "outputs": []
    },
    {
      "cell_type": "code",
      "source": [
        "distance_from_good, distance_from_bad"
      ],
      "metadata": {
        "colab": {
          "base_uri": "https://localhost:8080/"
        },
        "id": "oiR5_PXWxUd-",
        "outputId": "035e5894-9f25-457e-f3ec-e8f6560e9e75"
      },
      "execution_count": 49,
      "outputs": [
        {
          "output_type": "execute_result",
          "data": {
            "text/plain": [
              "(968.0064563250023, 0.0)"
            ]
          },
          "metadata": {},
          "execution_count": 49
        }
      ]
    },
    {
      "cell_type": "code",
      "source": [
        "good_knn_model = NearestNeighbors(n_neighbors=5).fit(good_data.drop(columns=['Category','cluster']))"
      ],
      "metadata": {
        "id": "wIl4MZjNxcwN"
      },
      "execution_count": 50,
      "outputs": []
    },
    {
      "cell_type": "code",
      "source": [
        "good_nearest_neighbors = good_knn_model.kneighbors(test_point, n_neighbors=5, return_distance=False)[0].tolist()"
      ],
      "metadata": {
        "id": "oVFiFO6W00xV"
      },
      "execution_count": 54,
      "outputs": []
    },
    {
      "cell_type": "code",
      "source": [
        "items = good_data.iloc[good_nearest_neighbors]['Category'].tolist()"
      ],
      "metadata": {
        "id": "aMPpMxWX000E"
      },
      "execution_count": 62,
      "outputs": []
    },
    {
      "cell_type": "code",
      "source": [
        "items"
      ],
      "metadata": {
        "colab": {
          "base_uri": "https://localhost:8080/"
        },
        "id": "oMldNgI71Xcf",
        "outputId": "78b10ddb-306a-404c-eba5-905be7eefbdb"
      },
      "execution_count": 63,
      "outputs": [
        {
          "output_type": "execute_result",
          "data": {
            "text/plain": [
              "['soft taco with beans',\n",
              " \"gardien bratwurst ultimate plant based saus'ge links, bratwurst\",\n",
              " 'boulder organic! green chile corn chowder',\n",
              " 'scallops with cheese sauce',\n",
              " 'good & gather plant based italian style meatless sausage, italian style']"
            ]
          },
          "metadata": {},
          "execution_count": 63
        }
      ]
    },
    {
      "cell_type": "markdown",
      "source": [
        "## Final Data and Function"
      ],
      "metadata": {
        "id": "hnfk4eYE4rHH"
      }
    },
    {
      "cell_type": "code",
      "source": [
        "#data\n",
        "dg_count = {0: 172, 1: 497, 2: 136, 3: 244, 4: 89, 5: 217, 6: 334, 7: 72, 8: 251, 9: 16}\n",
        "db_count = {0: 3, 1: 26, 2: 31, 3: 5, 4: 16, 5: 19, 6: 66, 7: 24, 8: 34, 9: 16}\n",
        "hg_count = {0: 146, 1: 331, 2: 111, 3: 197, 4: 35, 5: 286, 6: 157, 7: 80, 8: 166, 9: 10}\n",
        "hb_count = {0: 50, 1: 89, 2: 46, 3: 49, 4: 32, 5: 59, 6: 146, 7: 67, 8: 76, 9: 23}\n",
        "og_count = {0: 19, 1: 50, 2: 44, 3: 20, 4: 20, 5: 14, 6: 130, 7: 30, 8: 34, 9: 7}\n",
        "ob_count = {0: 79, 1: 215, 2: 59, 3: 77, 4: 53, 5: 73, 6: 308, 7: 32, 8: 153, 9: 16}\n",
        "sg_count = {0: 120, 1: 265, 2: 55, 3: 67, 4: 38, 5: 170, 6: 107, 7: 69, 8: 98, 9: 6}\n",
        "sb_count = {0: 34, 1: 211, 2: 94, 3: 78, 4: 34, 5: 85, 6: 175, 7: 41, 8: 110, 9: 18}\n",
        "lg_count = {0: 59, 1: 124, 2: 126, 3: 39, 4: 47, 5: 24, 6: 163, 7: 38, 8: 78, 9: 41}\n",
        "lb_count = {0: 90, 1: 207, 2: 53, 3: 76, 4: 30, 5: 77, 6: 259, 7: 51, 8: 136, 9: 15}\n",
        "bg_count = {0: 189, 1: 470, 2: 116, 3: 252, 4: 67, 5: 332, 6: 227, 7: 113, 8: 249, 9: 20}\n",
        "bb_count = {0: 175, 1: 515, 2: 82, 3: 201, 4: 60, 5: 126, 6: 362, 7: 61, 8: 316, 9: 30}"
      ],
      "metadata": {
        "id": "OtNTnwI01ol3"
      },
      "execution_count": 78,
      "outputs": []
    },
    {
      "cell_type": "markdown",
      "source": [
        "##Health Conditions\n",
        "\n",
        "*   Diabetes\n",
        "*   Heart Disease\n",
        "*   Obesity\n",
        "*   Skin Problems\n",
        "*   Liver Damage\n",
        "*   Blood Pressure\n",
        "\n",
        "\n",
        "\n"
      ],
      "metadata": {
        "id": "yezghZ9f62wQ"
      }
    },
    {
      "cell_type": "code",
      "source": [
        "def get_key(dct, val):\n",
        "    for key, value in dct.items():\n",
        "         if val == value:\n",
        "             return key"
      ],
      "metadata": {
        "id": "PLRFLWU88SuC"
      },
      "execution_count": 79,
      "outputs": []
    },
    {
      "cell_type": "code",
      "source": [
        "def recommendation(desired_food,health_condition):\n",
        "  if health_condition=='Diabetes':\n",
        "    good_food = dg_count\n",
        "    bad_food = db_count\n",
        "  if health_condition=='Heart Disease':\n",
        "    good_food = hg_count\n",
        "    bad_food = hb_count\n",
        "  if health_condition=='Obesity':\n",
        "    good_food = og_count\n",
        "    bad_food = ob_count\n",
        "  if health_condition=='Skin Problems':\n",
        "    good_food = sg_count\n",
        "    bad_food = sb_count\n",
        "  if health_condition=='Liver Damage':\n",
        "    good_food = lg_count\n",
        "    bad_food = lb_count\n",
        "  if health_condition=='Blood Pressure':\n",
        "    good_food = bg_count\n",
        "    bad_food = bb_count\n",
        "  target_cluster = int(df[df['Category']==desired_food]['cluster'])\n",
        "  test_point = df[df['Category']==desired_food].drop(columns=['Category','cluster'])\n",
        "  good_cluster = get_key(good_food,max(list(good_food.values())))\n",
        "  bad_cluster = get_key(bad_food,max(list(bad_food.values())))\n",
        "  target_data = df[df['cluster']==target_cluster]\n",
        "  good_data = df[df['cluster']==good_cluster]\n",
        "  bad_data = df[df['cluster']==bad_cluster]\n",
        "  target_centroid = target_data.drop(columns=['Category', 'cluster']).mean(axis=0).to_numpy()\n",
        "  good_centroid = good_data.drop(columns=['Category', 'cluster']).mean(axis=0).to_numpy()\n",
        "  bad_centroid = bad_data.drop(columns=['Category', 'cluster']).mean(axis=0).to_numpy()\n",
        "  distance_from_good = np.linalg.norm(good_centroid - target_centroid)\n",
        "  distance_from_bad = np.linalg.norm(bad_centroid - target_centroid)\n",
        "  good_knn_model = NearestNeighbors(n_neighbors=5).fit(good_data.drop(columns=['Category','cluster']))\n",
        "  good_nearest_neighbors = good_knn_model.kneighbors(test_point, n_neighbors=5, return_distance=False)[0].tolist()\n",
        "  items = good_data.iloc[good_nearest_neighbors]['Category'].tolist()\n",
        "  return distance_from_good, distance_from_bad, items"
      ],
      "metadata": {
        "id": "E9NRjUA94mJp"
      },
      "execution_count": null,
      "outputs": []
    }
  ]
}